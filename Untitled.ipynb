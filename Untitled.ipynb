{
 "cells": [
  {
   "cell_type": "markdown",
   "metadata": {},
   "source": [
    "# Algoritmo Challenge.\n",
    "\n",
    "## Historico de versiones\n",
    "\n",
    "0 Inicial 25/08/2018  Pseudocódigo y definiciones iniciales"
   ]
  },
  {
   "cell_type": "code",
   "execution_count": 19,
   "metadata": {
    "collapsed": true
   },
   "outputs": [],
   "source": [
    "#Carga de librerias\n",
    "import numpy as np\n",
    "import pandas as pd\n",
    "from os import path, getcwd, listdir\n",
    "import re\n",
    "\n",
    "\n",
    "#variables globales\n",
    "ruta = \"/challenge/training\"\n",
    "inCsv = 4 # 4 lee el modulo, 3 lee eje Z\n",
    "freq= 400"
   ]
  },
  {
   "cell_type": "code",
   "execution_count": 20,
   "metadata": {
    "collapsed": true
   },
   "outputs": [],
   "source": [
    "#PASOS PREVIOS\n",
    "# EL algoritmo leera la carpeta ~/challenge/traning/ donde estarán los archivos de movimiento y ataque.\n",
    "#    Los archivos de ataque deben llevar la extension .ATQ y comenzar por 01, 02, 03 este numero identifica al paciente\n",
    "#    Los archivos de movimiento deben llevar la extension .MOVI y comenzar por 01, 02, 03 este numero identifica al paciente\n",
    "\n",
    "# El algoritmo leera la carpeta ~/challenge/testing/ donde estaran archivos de movimiento y ataque para el test interno\n",
    "# del SVC"
   ]
  },
  {
   "cell_type": "code",
   "execution_count": 21,
   "metadata": {
    "collapsed": true
   },
   "outputs": [],
   "source": [
    "#Definicion de funciones\n",
    "def leerdatosdesdecsv (archivo, columna):\n",
    "    #usar panda\n",
    "    datos = np.array() #como definir un array de una sola dimension\n",
    "    return (datos, datos.shape[1]) #como calcular la longitud e un array\n",
    "\n",
    "def calcularventana (numeroventana):\n",
    "    ventana = np.zeros((numeroventana,2))\n",
    "    for i in range(numeroventana):\n",
    "        print (i)\n",
    "        ventana[i , 0] = 2.5 * freq * i #inicio\n",
    "        ventana[i , 1] = (2.5 * freq * (i + 1)) - 1   #fin\n",
    "    return(ventana)\n",
    "\n",
    "def calcularhamming(longitud):\n",
    "    hamming = np.ones(longitud)\n",
    "    \n",
    "def leerarchivocsv (archivo, columna):\n",
    "    df = pd.read_csv(archivo, float_precision='high')\n",
    "    a = df.iloc[: , columna].values.reshape(5,1)\n",
    "    return (a, a.shape[1])"
   ]
  },
  {
   "cell_type": "code",
   "execution_count": 22,
   "metadata": {
    "collapsed": true
   },
   "outputs": [],
   "source": [
    "##Listar archivos del directorio de training\n",
    "cwd = getcwd()#\n",
    "normalizedPath = path.abspath(cwd + ruta)\n",
    "listaArchivosTraining = listdir(normalizedPath)"
   ]
  },
  {
   "cell_type": "code",
   "execution_count": 23,
   "metadata": {},
   "outputs": [
    {
     "name": "stdout",
     "output_type": "stream",
     "text": [
      "1\n"
     ]
    }
   ],
   "source": [
    "#Por cada archivo leer el contenido del csv\n",
    "for archivoTraining in listaArchivosTraining:\n",
    "    datos, longitudDatos = leerarchivocsv(path.abspath(normalizedPath + \"\\\\\" + archivoTraining), inCsv)\n",
    "    print(longitudDatos)\n",
    "    \n",
    "    #datos, longitudDatos = leerdatosdesdecsv(archivo, inCsv)\n",
    "    \n",
    "    #if longitudDatos == 15*400:\n",
    "    #    numeroVentanas = 6\n",
    "    #elif longitudDatos > 15 * 400:\n",
    "    #    numeroVentanas = 6\n",
    "    #    windatos = datos[0 : 15*400-1]\n",
    "    #else longitud < 15 * 400:\n",
    "    #    numeroVentanas = longitudDatos %% (2.5 * 400)\n",
    "    \n",
    "    #ventanas = calcularventana(numeroVentanas)\n",
    "    \n",
    "    \n",
    "    #hammingWindow = calcularhamming(datos.shape[1])"
   ]
  },
  {
   "cell_type": "code",
   "execution_count": 24,
   "metadata": {},
   "outputs": [
    {
     "name": "stdout",
     "output_type": "stream",
     "text": [
      "0\n",
      "1\n",
      "2\n",
      "3\n",
      "4\n",
      "5\n",
      "[[    0.   999.]\n",
      " [ 1000.  1999.]\n",
      " [ 2000.  2999.]\n",
      " [ 3000.  3999.]\n",
      " [ 4000.  4999.]\n",
      " [ 5000.  5999.]]\n"
     ]
    }
   ],
   "source": [
    "f=calcularventana(6)\n",
    "print(f)\n"
   ]
  },
  {
   "cell_type": "code",
   "execution_count": null,
   "metadata": {
    "collapsed": true
   },
   "outputs": [],
   "source": []
  }
 ],
 "metadata": {
  "kernelspec": {
   "display_name": "Python 3",
   "language": "python",
   "name": "python3"
  },
  "language_info": {
   "codemirror_mode": {
    "name": "ipython",
    "version": 3
   },
   "file_extension": ".py",
   "mimetype": "text/x-python",
   "name": "python",
   "nbconvert_exporter": "python",
   "pygments_lexer": "ipython3",
   "version": "3.6.3"
  }
 },
 "nbformat": 4,
 "nbformat_minor": 2
}
